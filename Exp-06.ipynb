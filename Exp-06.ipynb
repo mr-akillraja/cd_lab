{
 "cells": [
  {
   "cell_type": "code",
   "execution_count": 30,
   "id": "1b514dc1",
   "metadata": {},
   "outputs": [],
   "source": [
    "# Exp - 06\n",
    "# leading and trailing .\n",
    "\n",
    "def leading_trailing_sets(grammar):\n",
    " \n",
    "    leading = {}\n",
    "    trailing = {}\n",
    "\n",
    "    # Iterate over each non-terminal symbol in the grammar\n",
    "    for nonterm in grammar:\n",
    "        leading[nonterm] = set()\n",
    "        trailing[nonterm] = set()\n",
    "\n",
    "    # Iterate over each non-terminal symbol in the grammar again\n",
    "    for nonterm in grammar:\n",
    "        # Iterate over each production for the non-terminal\n",
    "        for prod in grammar[nonterm]:\n",
    "            # Compute the leading set for the production\n",
    "            first = set()\n",
    "            for sym in prod:\n",
    "                if sym in grammar:\n",
    "                    # If the symbol is a non-terminal, add its leading set to the first set\n",
    "                    first |= leading[sym]\n",
    "                    if \"\" not in leading[sym]:\n",
    "                        # If the symbol doesn't derive the empty string, stop looking for leading symbols\n",
    "                        break\n",
    "                else:\n",
    "                    # If the symbol is a terminal, add it to the first set and stop looking for leading symbols\n",
    "                    first.add(sym)\n",
    "                    break\n",
    "            # Add the first set to the leading set for the non-terminal\n",
    "            leading[nonterm] |= first\n",
    "\n",
    "            # Compute the trailing set for the production\n",
    "            last = set()\n",
    "            for sym in reversed(prod):\n",
    "                if sym in grammar:\n",
    "                    # If the symbol is a non-terminal, add its trailing set to the last set\n",
    "                    last |= trailing[sym]\n",
    "                    if \"\" not in trailing[sym]:\n",
    "                        # If the symbol doesn't derive the empty string, stop looking for trailing symbols\n",
    "                        break\n",
    "                else:\n",
    "                    # If the symbol is a terminal, add it to the last set and stop looking for trailing symbols\n",
    "                    last.add(sym)\n",
    "                    break\n",
    "            # Add the last set to the trailing set for the non-terminal\n",
    "            trailing[nonterm] |= last\n",
    "\n",
    "    return leading, trailing\n"
   ]
  },
  {
   "cell_type": "code",
   "execution_count": 31,
   "id": "2350b2bb",
   "metadata": {},
   "outputs": [
    {
     "name": "stdout",
     "output_type": "stream",
     "text": [
      "Leading sets:\n",
      "S {'a'}\n",
      "A {'b', 'a'}\n",
      "B {'b', 'c'}\n",
      "\n",
      "Trailing sets:\n",
      "S set()\n",
      "A {'b'}\n",
      "B {'c'}\n"
     ]
    }
   ],
   "source": [
    "grammar = {\n",
    "    \"S\": [\"aA\", \"aB\"],\n",
    "    \"A\": [\"aA\", \"b\"],\n",
    "    \"B\": [\"bB\", \"c\"]\n",
    "}\n",
    "\n",
    "leading, trailing = leading_trailing_sets(grammar)\n",
    "\n",
    "print(\"Leading sets:\")\n",
    "for nonterm in leading:\n",
    "    print(nonterm, leading[nonterm])\n",
    "\n",
    "print(\"\\nTrailing sets:\")\n",
    "for nonterm in trailing:\n",
    "    print(nonterm, trailing[nonterm])\n"
   ]
  },
  {
   "cell_type": "code",
   "execution_count": null,
   "id": "0aa4d171",
   "metadata": {},
   "outputs": [],
   "source": []
  }
 ],
 "metadata": {
  "kernelspec": {
   "display_name": "Python 3 (ipykernel)",
   "language": "python",
   "name": "python3"
  },
  "language_info": {
   "codemirror_mode": {
    "name": "ipython",
    "version": 3
   },
   "file_extension": ".py",
   "mimetype": "text/x-python",
   "name": "python",
   "nbconvert_exporter": "python",
   "pygments_lexer": "ipython3",
   "version": "3.9.7"
  }
 },
 "nbformat": 4,
 "nbformat_minor": 5
}
