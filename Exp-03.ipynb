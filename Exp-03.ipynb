{
 "cells": [
  {
   "cell_type": "code",
   "execution_count": 12,
   "id": "0f0745b3",
   "metadata": {},
   "outputs": [
    {
     "ename": "SyntaxError",
     "evalue": "unexpected EOF while parsing (3628897510.py, line 25)",
     "output_type": "error",
     "traceback": [
      "\u001b[1;36m  Cell \u001b[1;32mIn[12], line 25\u001b[1;36m\u001b[0m\n\u001b[1;33m    print(new_gram\u001b[0m\n\u001b[1;37m                  ^\u001b[0m\n\u001b[1;31mSyntaxError\u001b[0m\u001b[1;31m:\u001b[0m unexpected EOF while parsing\n"
     ]
    }
   ],
   "source": [
    "## Exp - 03 \n",
    "## Eliminating left recursion.\n",
    "\n",
    "gram = {\n",
    "    'e':['e+t','t'],\n",
    "    't':['t*f','f'],\n",
    "    'f':['(s)','id']\n",
    "}\n",
    "\n",
    "non_terminals = list(gram.keys())\n",
    "new_gram = {}\n",
    "for i in non_terminals:\n",
    "    new_gram[i] = []\n",
    "    alpha = []\n",
    "    beta = []\n",
    "    for rule in gram[i]:\n",
    "        if rule.startswith(i):\n",
    "            alpha.append(rule[1:])\n",
    "        else:\n",
    "            beta.append(rule)\n",
    "    if not alpha:\n",
    "        new_gram[i] = beta\n",
    "        continue\n",
    "    a = i + \"'\"\n",
    "    new_gram[i].extend([j+a for j in beta])\n",
    "    new_gram[a] = [j +a for j in alpha]\n",
    "    new_gram[a] = ['ε']\n",
    "print(new_gram"
   ]
  },
  {
   "cell_type": "code",
   "execution_count": 2,
   "id": "53df3ff6",
   "metadata": {},
   "outputs": [
    {
     "name": "stdout",
     "output_type": "stream",
     "text": [
      "'\n"
     ]
    },
    {
     "ename": "KeyError",
     "evalue": "\"T'\"",
     "output_type": "error",
     "traceback": [
      "\u001b[1;31m---------------------------------------------------------------------------\u001b[0m",
      "\u001b[1;31mKeyError\u001b[0m                                  Traceback (most recent call last)",
      "Cell \u001b[1;32mIn[2], line 36\u001b[0m\n\u001b[0;32m     33\u001b[0m     \u001b[38;5;28;01mreturn\u001b[39;00m new_grammar\n\u001b[0;32m     35\u001b[0m \u001b[38;5;66;03m# Test the function\u001b[39;00m\n\u001b[1;32m---> 36\u001b[0m new_grammar \u001b[38;5;241m=\u001b[39m \u001b[43meliminate_left_recursion\u001b[49m\u001b[43m(\u001b[49m\u001b[43mgrammar\u001b[49m\u001b[43m)\u001b[49m\n\u001b[0;32m     37\u001b[0m \u001b[38;5;28mprint\u001b[39m(new_grammar)\n",
      "Cell \u001b[1;32mIn[2], line 31\u001b[0m, in \u001b[0;36meliminate_left_recursion\u001b[1;34m(grammar)\u001b[0m\n\u001b[0;32m     29\u001b[0m     \u001b[38;5;28mprint\u001b[39m(A_[\u001b[38;5;241m1\u001b[39m])\n\u001b[0;32m     30\u001b[0m     new_grammar[A]\u001b[38;5;241m.\u001b[39mextend([B \u001b[38;5;241m+\u001b[39m A_ \u001b[38;5;28;01mfor\u001b[39;00m B \u001b[38;5;129;01min\u001b[39;00m beta])\n\u001b[1;32m---> 31\u001b[0m     \u001b[43mnew_grammar\u001b[49m\u001b[43m[\u001b[49m\u001b[43mA_\u001b[49m\u001b[43m]\u001b[49m\u001b[38;5;241m.\u001b[39mextend([B \u001b[38;5;241m+\u001b[39m A_ \u001b[38;5;28;01mfor\u001b[39;00m B \u001b[38;5;129;01min\u001b[39;00m alpha])\n\u001b[0;32m     32\u001b[0m     new_grammar[A_]\u001b[38;5;241m.\u001b[39mappend(\u001b[38;5;124m'\u001b[39m\u001b[38;5;124mε\u001b[39m\u001b[38;5;124m'\u001b[39m)\n\u001b[0;32m     33\u001b[0m \u001b[38;5;28;01mreturn\u001b[39;00m new_grammar\n",
      "\u001b[1;31mKeyError\u001b[0m: \"T'\""
     ]
    }
   ],
   "source": []
  },
  {
   "cell_type": "code",
   "execution_count": null,
   "id": "ac838c48",
   "metadata": {},
   "outputs": [],
   "source": []
  },
  {
   "cell_type": "code",
   "execution_count": 5,
   "id": "c958ea39",
   "metadata": {},
   "outputs": [
    {
     "name": "stdout",
     "output_type": "stream",
     "text": [
      "{'e': [\"te'\"], \"e'\": ['e']}\n",
      "{'e': [\"te'\"], \"e'\": ['e'], 't': [\"ft'\"], \"t'\": ['e']}\n"
     ]
    }
   ],
   "source": []
  },
  {
   "cell_type": "code",
   "execution_count": 11,
   "id": "e833a182",
   "metadata": {},
   "outputs": [
    {
     "name": "stdout",
     "output_type": "stream",
     "text": [
      "{'e': [\"te'\"], \"e'\": ['ε'], 't': [\"ft'\"], \"t'\": ['ε'], 'f': ['(s)', 'id']}\n"
     ]
    }
   ],
   "source": [
    "gram = {\n",
    "    'e':['e+t','t'],\n",
    "    't':['t*f','f'],\n",
    "    'f':['(s)','id']\n",
    "}\n",
    "\n",
    "non_terminals = list(gram.keys())\n",
    "new_gram = {}\n",
    "for i in non_terminals:\n",
    "    new_gram[i] = []\n",
    "    alpha = []\n",
    "    beta = []\n",
    "    for rule in gram[i]:\n",
    "        if rule.startswith(i):\n",
    "            alpha.append(rule[1:])\n",
    "        else:\n",
    "            beta.append(rule)\n",
    "    if not alpha:\n",
    "        new_gram[i] = beta\n",
    "        continue\n",
    "    a = i + \"'\"\n",
    "    new_gram[i].extend([j+a for j in beta])\n",
    "    new_gram[a] = [j +a for j in alpha]\n",
    "    new_gram[a] = ['ε']\n",
    "print(new_gram)"
   ]
  },
  {
   "cell_type": "code",
   "execution_count": null,
   "id": "7cf13927",
   "metadata": {},
   "outputs": [],
   "source": []
  }
 ],
 "metadata": {
  "kernelspec": {
   "display_name": "Python 3 (ipykernel)",
   "language": "python",
   "name": "python3"
  },
  "language_info": {
   "codemirror_mode": {
    "name": "ipython",
    "version": 3
   },
   "file_extension": ".py",
   "mimetype": "text/x-python",
   "name": "python",
   "nbconvert_exporter": "python",
   "pygments_lexer": "ipython3",
   "version": "3.9.7"
  }
 },
 "nbformat": 4,
 "nbformat_minor": 5
}
