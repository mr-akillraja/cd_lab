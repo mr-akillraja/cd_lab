{
 "cells": [
  {
   "cell_type": "code",
   "execution_count": 46,
   "id": "3c4587ef",
   "metadata": {},
   "outputs": [
    {
     "name": "stdout",
     "output_type": "stream",
     "text": [
      "first sets are : \n",
      "E {'i', '('}\n",
      "T {'i', '('}\n",
      "F {'i', '('}\n",
      "follow sets are : \n",
      "E {'i', '('}\n",
      "T {'i', '('}\n",
      "F {'i', '('}\n"
     ]
    }
   ],
   "source": [
    "# Exp - 05 \n",
    "# first and follow sets\n",
    "\n",
    "\n",
    "# Define a grammar\n",
    "grammar = {\n",
    "    'S': ['AaB', 'BbA'],\n",
    "    'A': ['c', 'd', ''],\n",
    "    'B': ['e', 'f', '']\n",
    "}\n",
    "\n",
    "# Function to calculate First set of a given non-terminal symbol\n",
    "def first(nt, visited):\n",
    "    if nt in visited:\n",
    "        return set()\n",
    "    visited.add(nt)\n",
    "    first_set = set()\n",
    "    for prod in grammar[nt]:\n",
    "        if not prod:\n",
    "            first_set.add('')\n",
    "        elif prod[0].isupper():\n",
    "            first_set.update(first(prod[0], visited))\n",
    "        else:\n",
    "            first_set.add(prod[0])\n",
    "    return first_set\n",
    "\n",
    "# Function to calculate Follow set of a given non-terminal symbol\n",
    "def follow(nt, visited):\n",
    "    if nt in visited:\n",
    "        return set()\n",
    "    visited.add(nt)\n",
    "    follow_set = set()\n",
    "    for lhs, prods in grammar.items():\n",
    "        for prod in prods:\n",
    "            if nt in prod:\n",
    "                idx = prod.index(nt)\n",
    "                if idx == len(prod) - 1:\n",
    "                    if lhs != nt:\n",
    "                        follow_set.update(follow(lhs, visited))\n",
    "                else:\n",
    "                    if prod[idx+1].isupper():\n",
    "                        follow_set.update(first(prod[idx+1], visited))\n",
    "                        if '' in follow_set:\n",
    "                            follow_set.remove('')\n",
    "                        if idx+1 == len(prod) - 1:\n",
    "                            follow_set.update(follow(lhs, visited))\n",
    "                    else:\n",
    "                        follow_set.add(prod[idx+1])\n",
    "    return follow_set\n",
    "\n",
    "# Calculate First and Follow sets for each non-terminal symbol\n",
    "first_sets = {}\n",
    "follow_sets = {}\n",
    "\n",
    "for nt in grammar:\n",
    "    first_sets[nt] = first(nt, set())\n",
    "    follow_sets[nt] = follow(nt, set())\n",
    "\n",
    "# Print First and Follow sets\n",
    "print(\"First sets:\")\n",
    "for nt, fs in first_sets.items():\n",
    "    print(nt, fs)\n",
    "\n",
    "print(\"Follow sets:\")\n",
    "for nt, fs in follow_sets.items():\n",
    "    print(nt, fs)\n"
   ]
  }
 ],
 "metadata": {
  "kernelspec": {
   "display_name": "Python 3 (ipykernel)",
   "language": "python",
   "name": "python3"
  },
  "language_info": {
   "codemirror_mode": {
    "name": "ipython",
    "version": 3
   },
   "file_extension": ".py",
   "mimetype": "text/x-python",
   "name": "python",
   "nbconvert_exporter": "python",
   "pygments_lexer": "ipython3",
   "version": "3.9.7"
  }
 },
 "nbformat": 4,
 "nbformat_minor": 5
}
