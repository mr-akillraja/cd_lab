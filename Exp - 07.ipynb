{
 "cells": [
  {
   "cell_type": "code",
   "execution_count": 2,
   "id": "9395547a",
   "metadata": {},
   "outputs": [
    {
     "name": "stdout",
     "output_type": "stream",
     "text": [
      "E,id -> [\"T E'\"]\n",
      "E,+ -> error\n",
      "E,* -> error\n",
      "E,( -> [\"T E'\"]\n",
      "E,) -> error\n",
      "E,$ -> error\n",
      "E',id -> error\n",
      "E',+ -> [\"+ T E'\"]\n",
      "E',* -> error\n",
      "E',( -> error\n",
      "E',) -> ['']\n",
      "E',$ -> ['']\n",
      "T,id -> [\"F T'\"]\n",
      "T,+ -> error\n",
      "T,* -> error\n",
      "T,( -> [\"F T'\"]\n",
      "T,) -> error\n",
      "T,$ -> error\n",
      "T',id -> error\n",
      "T',+ -> ['']\n",
      "T',* -> [\"* F T'\"]\n",
      "T',( -> error\n",
      "T',) -> ['']\n",
      "T',$ -> ['']\n",
      "F,id -> ['id']\n",
      "F,+ -> error\n",
      "F,* -> error\n",
      "F,( -> ['( E )']\n",
      "F,) -> error\n",
      "F,$ -> error\n"
     ]
    }
   ],
   "source": [
    "# Exp - 07\n",
    "# Predictive Parsing Table\n",
    "\n",
    "# Define the grammar\n",
    "grammar = {\n",
    "    'E': {'id': 'T E\\'', '(': 'T E\\''},\n",
    "    'E\\'': {'+': '+ T E\\'', ')': '', '$': ''},\n",
    "    'T': {'id': 'F T\\'', '(': 'F T\\''},\n",
    "    'T\\'': {'+': '', '*': '* F T\\'', ')': '', '$': ''},\n",
    "    'F': {'id': 'id', '(': '( E )'}\n",
    "}\n",
    "\n",
    "# Define the terminals and non-terminals\n",
    "terminals = ['id', '+', '*', '(', ')', '$']\n",
    "non_terminals = ['E', 'E\\'', 'T', 'T\\'', 'F']\n",
    "\n",
    "# Define the first sets for each non-terminal\n",
    "first = {\n",
    "    'E': ['id', '('],\n",
    "    'E\\'': ['+', ')', '$'],\n",
    "    'T': ['id', '('],\n",
    "    'T\\'': ['+', '*', ')', '$'],\n",
    "    'F': ['id', '(']\n",
    "}\n",
    "\n",
    "# Define the follow sets for each non-terminal\n",
    "follow = {\n",
    "    'E': [')', '$'],\n",
    "    'E\\'': [')', '$'],\n",
    "    'T': ['+', ')', '$'],\n",
    "    'T\\'': ['+', ')', '$'],\n",
    "    'F': ['+', '*', ')', '$']\n",
    "}\n",
    "\n",
    "# Construct the predictive parsing table\n",
    "table = {}\n",
    "for non_terminal in non_terminals:\n",
    "    for terminal in terminals:\n",
    "        if terminal in first[non_terminal]:\n",
    "            productions = [production.strip() for production in grammar[non_terminal][terminal].split('|')]\n",
    "            table[(non_terminal, terminal)] = productions\n",
    "        elif terminal in follow[non_terminal] and '' in first[non_terminal]:\n",
    "            productions = [production.strip() for production in grammar[non_terminal][''].split('|')]\n",
    "            table[(non_terminal, terminal)] = productions\n",
    "        else:\n",
    "            table[(non_terminal, terminal)] = 'error'\n",
    "\n",
    "# Print the predictive parsing table\n",
    "for non_terminal in non_terminals:\n",
    "    for terminal in terminals:\n",
    "        print(f'{non_terminal},{terminal} -> {table[(non_terminal, terminal)]}')\n"
   ]
  },
  {
   "cell_type": "code",
   "execution_count": 4,
   "id": "4849c766",
   "metadata": {},
   "outputs": [
    {
     "ename": "AttributeError",
     "evalue": "'_regex.Pattern' object has no attribute 'automaton'",
     "output_type": "error",
     "traceback": [
      "\u001b[1;31m---------------------------------------------------------------------------\u001b[0m",
      "\u001b[1;31mAttributeError\u001b[0m                            Traceback (most recent call last)",
      "Cell \u001b[1;32mIn[4], line 6\u001b[0m\n\u001b[0;32m      4\u001b[0m regex_string \u001b[38;5;241m=\u001b[39m \u001b[38;5;124m\"\u001b[39m\u001b[38;5;124ma(b|c)*d\u001b[39m\u001b[38;5;124m\"\u001b[39m\n\u001b[0;32m      5\u001b[0m nfa \u001b[38;5;241m=\u001b[39m regex\u001b[38;5;241m.\u001b[39mcompile(regex_string)\n\u001b[1;32m----> 6\u001b[0m nfa \u001b[38;5;241m=\u001b[39m \u001b[43mnfa\u001b[49m\u001b[38;5;241;43m.\u001b[39;49m\u001b[43mautomaton\u001b[49m\n\u001b[0;32m      8\u001b[0m \u001b[38;5;66;03m# iterate through the states of the NFA\u001b[39;00m\n\u001b[0;32m      9\u001b[0m \u001b[38;5;28;01mfor\u001b[39;00m state \u001b[38;5;129;01min\u001b[39;00m nfa\u001b[38;5;241m.\u001b[39mstates:\n\u001b[0;32m     10\u001b[0m     \u001b[38;5;66;03m# print the state's ID and its transitions\u001b[39;00m\n",
      "\u001b[1;31mAttributeError\u001b[0m: '_regex.Pattern' object has no attribute 'automaton'"
     ]
    }
   ],
   "source": [
    "import regex\n",
    "\n",
    "# compile the regular expression\n",
    "regex_string = \"a(b|c)*d\"\n",
    "nfa = regex.compile(regex_string)\n",
    "nfa = nfa.automaton\n",
    "\n",
    "# iterate through the states of the NFA\n",
    "for state in nfa.states:\n",
    "    # print the state's ID and its transitions\n",
    "    print(f\"State {state.id}:\")\n",
    "    for symbol, next_state in state.transitions.items():\n",
    "        print(f\"  {symbol} -> State {next_state.id}\")\n"
   ]
  },
  {
   "cell_type": "code",
   "execution_count": null,
   "id": "b5a2bf1a",
   "metadata": {},
   "outputs": [],
   "source": []
  }
 ],
 "metadata": {
  "kernelspec": {
   "display_name": "Python 3 (ipykernel)",
   "language": "python",
   "name": "python3"
  },
  "language_info": {
   "codemirror_mode": {
    "name": "ipython",
    "version": 3
   },
   "file_extension": ".py",
   "mimetype": "text/x-python",
   "name": "python",
   "nbconvert_exporter": "python",
   "pygments_lexer": "ipython3",
   "version": "3.9.7"
  }
 },
 "nbformat": 4,
 "nbformat_minor": 5
}
